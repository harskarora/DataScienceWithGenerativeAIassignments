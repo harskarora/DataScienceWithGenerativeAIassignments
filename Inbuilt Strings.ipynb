{
 "cells": [
  {
   "cell_type": "code",
   "execution_count": null,
   "id": "f309479f",
   "metadata": {},
   "outputs": [],
   "source": [
    "#1. What is the purpose of the len() function in Python, and how can it be used with strings?\n",
    "\n",
    "\"\"\"\n",
    "The len() function in Python is used to get the length of a sequence or collection. \n",
    "\n",
    "For strings, len() returns the number of characters in the string, including spaces and special characters.\n",
    "\n",
    "Here's an example of how len() can be used with strings:\n",
    "\n",
    "\n",
    "\"\"\"\n",
    "\n",
    "my_string = \"Hello, world!\"\n",
    "\n",
    "length = len(my_string)\n",
    "\n",
    "print(\"Length of the string:\", length)  \n"
   ]
  },
  {
   "cell_type": "code",
   "execution_count": null,
   "id": "e6db96f6",
   "metadata": {},
   "outputs": [],
   "source": [
    "#2. How can you concatenate two or more strings in Python, and can you provide an example of string concatenation?\n",
    "\n",
    "\"\"\"\n",
    "In Python, we can concatenate two or more strings using the + operator. Here's an example:\n",
    "\n",
    "\"\"\"\n",
    "\n",
    "str1 = \"Hello\"\n",
    "\n",
    "str2 = \"world\"\n",
    "\n",
    "result = str1 + \" \" + str2\n",
    "\n",
    "print(result)  "
   ]
  },
  {
   "cell_type": "code",
   "execution_count": 2,
   "id": "94dd1750",
   "metadata": {},
   "outputs": [
    {
     "name": "stdout",
     "output_type": "stream",
     "text": [
      "world\n"
     ]
    }
   ],
   "source": [
    "#3. What is string slicing in Python, and how can you extract a portion of a string using this method?\n",
    "\n",
    "\n",
    "\"\"\"\n",
    "String slicing in Python refers to extracting a substring (a portion of a string) from a larger string. \n",
    "\n",
    "It allows you to specify a starting index and an ending index to extract a substring. \n",
    "\n",
    "The syntax for string slicing is [start:end], where start is the starting index of the substring (inclusive) and end is the ending index of the substring (exclusive).\n",
    "\n",
    "Here's an example of how you can use string slicing to extract a portion of a string:\n",
    "\n",
    "\"\"\"\n",
    "\n",
    "my_string = \"Hello, world!\"\n",
    "\n",
    "substring = my_string[7:12]\n",
    "\n",
    "print(substring)\n"
   ]
  },
  {
   "cell_type": "code",
   "execution_count": null,
   "id": "eafb097c",
   "metadata": {},
   "outputs": [],
   "source": [
    "#4. How can you change the case of a string in Python, and can you provide examples of both making a string all uppercase and all lowercase?\n",
    "\n",
    "\"\"\"\n",
    "In Python, you can change the case of a string using the upper() and lower() methods.\n",
    "\n",
    "upper(): Converts all characters in a string to uppercase.\n",
    "lower(): Converts all characters in a string to lowercase.\n",
    "\n",
    "\"\"\"\n",
    "\n",
    "\n",
    "my_string = \"Hello, World!\"\n",
    "\n",
    "uppercase_string = my_string.upper()\n",
    "print(uppercase_string)  \n",
    "\n",
    "lowercase_string = my_string.lower()\n",
    "print(lowercase_string) \n"
   ]
  },
  {
   "cell_type": "code",
   "execution_count": null,
   "id": "d16a40f2",
   "metadata": {},
   "outputs": [],
   "source": [
    "#5. What does the split() method do in Python, and how can you split a string using a specific delimiter?\n",
    "\n",
    "\"\"\"\n",
    "\n",
    "The split() method in Python is used to split a string into a list of substrings based on a delimiter. \n",
    "\n",
    "By default, the split() method splits the string using whitespace as the delimiter (i.e., it splits the string into words). \n",
    "\n",
    "However, you can also specify a custom delimiter to split the string based on a specific character or substring.\n",
    "\n",
    "Here's an example of how you can split a string using a specific delimiter:\n",
    "\n",
    "\"\"\"\n",
    "\n",
    "my_string = \"apple,banana,orange\"\n",
    "\n",
    "fruits = my_string.split(\",\")\n",
    "\n",
    "print(fruits)  \n"
   ]
  }
 ],
 "metadata": {
  "kernelspec": {
   "display_name": "Python 3 (ipykernel)",
   "language": "python",
   "name": "python3"
  },
  "language_info": {
   "codemirror_mode": {
    "name": "ipython",
    "version": 3
   },
   "file_extension": ".py",
   "mimetype": "text/x-python",
   "name": "python",
   "nbconvert_exporter": "python",
   "pygments_lexer": "ipython3",
   "version": "3.10.9"
  }
 },
 "nbformat": 4,
 "nbformat_minor": 5
}
