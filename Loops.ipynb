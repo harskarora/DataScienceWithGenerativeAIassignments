{
 "cells": [
  {
   "cell_type": "code",
   "execution_count": 34,
   "id": "348ccf75",
   "metadata": {},
   "outputs": [
    {
     "name": "stdout",
     "output_type": "stream",
     "text": [
      "1\n",
      "2\n",
      "3\n",
      "4\n",
      "5\n"
     ]
    }
   ],
   "source": [
    "#Print number from 1 to 5 uing a while loop.\n",
    "\n",
    "a=1\n",
    "\n",
    "while a<=5:\n",
    "    \n",
    "    print(a)\n",
    "    \n",
    "    a= a+1"
   ]
  },
  {
   "cell_type": "code",
   "execution_count": 41,
   "id": "181d8caf",
   "metadata": {},
   "outputs": [
    {
     "name": "stdout",
     "output_type": "stream",
     "text": [
      "Sum is:  55\n"
     ]
    }
   ],
   "source": [
    "#Calclate the sum of number from 1 to 10 using a while loop.\n",
    "\n",
    "a=1\n",
    "my_sum=0\n",
    "\n",
    "while a<=10:\n",
    "    my_sum+=a\n",
    "    a=a+1\n",
    "print(\"Sum is: \",my_sum)    "
   ]
  },
  {
   "cell_type": "code",
   "execution_count": 40,
   "id": "02ff5c6b",
   "metadata": {},
   "outputs": [
    {
     "name": "stdout",
     "output_type": "stream",
     "text": [
      "The factorial of 5 is: 120\n"
     ]
    }
   ],
   "source": [
    "#Calculate the factorial of a number using a for loop.\n",
    "\n",
    "a = 5\n",
    "\n",
    "my_factorial = 1\n",
    "\n",
    "for i in range(1, a + 1):\n",
    "    \n",
    "    my_factorial *= i\n",
    "\n",
    "print(f\"The factorial of {a} is:\", my_factorial)\n"
   ]
  },
  {
   "cell_type": "code",
   "execution_count": 45,
   "id": "b89ed6b7",
   "metadata": {},
   "outputs": [
    {
     "name": "stdout",
     "output_type": "stream",
     "text": [
      "Number of vowels in given string :  1\n"
     ]
    }
   ],
   "source": [
    "#Count the number of vowel in a string using a for loop.\n",
    "\n",
    "a=\"Harsh\"\n",
    "\n",
    "count=0\n",
    "\n",
    "for i in a.lower():\n",
    "    \n",
    "    if i in ['a','e','i','o','u']:\n",
    "        count+=1\n",
    "print(\"Number of vowels in given string : \", count)"
   ]
  },
  {
   "cell_type": "code",
   "execution_count": 47,
   "id": "fb31b997",
   "metadata": {},
   "outputs": [
    {
     "name": "stdout",
     "output_type": "stream",
     "text": [
      "* \r\n",
      "* * \r\n",
      "* * * \r\n",
      "* * * * \r\n",
      "* * * * * \r\n"
     ]
    }
   ],
   "source": [
    "#Print a pattern using nested loop.\n",
    "\n",
    "rows = 5\n",
    "\n",
    "for i in range(0, rows):\n",
    "    \n",
    "    for j in range(0, i + 1):\n",
    "        \n",
    "        print(\"*\", end=' ')\n",
    "        \n",
    "    print(\"\\r\")\n"
   ]
  },
  {
   "cell_type": "code",
   "execution_count": 50,
   "id": "ec50247d",
   "metadata": {},
   "outputs": [
    {
     "name": "stdout",
     "output_type": "stream",
     "text": [
      "1 x 1 = 1\n",
      "1 x 2 = 2\n",
      "1 x 3 = 3\n",
      "1 x 4 = 4\n",
      "1 x 5 = 5\n",
      "1 x 6 = 6\n",
      "1 x 7 = 7\n",
      "1 x 8 = 8\n",
      "1 x 9 = 9\n",
      "1 x 10 = 10\n",
      "\n",
      "2 x 1 = 2\n",
      "2 x 2 = 4\n",
      "2 x 3 = 6\n",
      "2 x 4 = 8\n",
      "2 x 5 = 10\n",
      "2 x 6 = 12\n",
      "2 x 7 = 14\n",
      "2 x 8 = 16\n",
      "2 x 9 = 18\n",
      "2 x 10 = 20\n",
      "\n",
      "3 x 1 = 3\n",
      "3 x 2 = 6\n",
      "3 x 3 = 9\n",
      "3 x 4 = 12\n",
      "3 x 5 = 15\n",
      "3 x 6 = 18\n",
      "3 x 7 = 21\n",
      "3 x 8 = 24\n",
      "3 x 9 = 27\n",
      "3 x 10 = 30\n",
      "\n",
      "4 x 1 = 4\n",
      "4 x 2 = 8\n",
      "4 x 3 = 12\n",
      "4 x 4 = 16\n",
      "4 x 5 = 20\n",
      "4 x 6 = 24\n",
      "4 x 7 = 28\n",
      "4 x 8 = 32\n",
      "4 x 9 = 36\n",
      "4 x 10 = 40\n",
      "\n",
      "5 x 1 = 5\n",
      "5 x 2 = 10\n",
      "5 x 3 = 15\n",
      "5 x 4 = 20\n",
      "5 x 5 = 25\n",
      "5 x 6 = 30\n",
      "5 x 7 = 35\n",
      "5 x 8 = 40\n",
      "5 x 9 = 45\n",
      "5 x 10 = 50\n",
      "\n",
      "6 x 1 = 6\n",
      "6 x 2 = 12\n",
      "6 x 3 = 18\n",
      "6 x 4 = 24\n",
      "6 x 5 = 30\n",
      "6 x 6 = 36\n",
      "6 x 7 = 42\n",
      "6 x 8 = 48\n",
      "6 x 9 = 54\n",
      "6 x 10 = 60\n",
      "\n",
      "7 x 1 = 7\n",
      "7 x 2 = 14\n",
      "7 x 3 = 21\n",
      "7 x 4 = 28\n",
      "7 x 5 = 35\n",
      "7 x 6 = 42\n",
      "7 x 7 = 49\n",
      "7 x 8 = 56\n",
      "7 x 9 = 63\n",
      "7 x 10 = 70\n",
      "\n",
      "8 x 1 = 8\n",
      "8 x 2 = 16\n",
      "8 x 3 = 24\n",
      "8 x 4 = 32\n",
      "8 x 5 = 40\n",
      "8 x 6 = 48\n",
      "8 x 7 = 56\n",
      "8 x 8 = 64\n",
      "8 x 9 = 72\n",
      "8 x 10 = 80\n",
      "\n",
      "9 x 1 = 9\n",
      "9 x 2 = 18\n",
      "9 x 3 = 27\n",
      "9 x 4 = 36\n",
      "9 x 5 = 45\n",
      "9 x 6 = 54\n",
      "9 x 7 = 63\n",
      "9 x 8 = 72\n",
      "9 x 9 = 81\n",
      "9 x 10 = 90\n",
      "\n",
      "10 x 1 = 10\n",
      "10 x 2 = 20\n",
      "10 x 3 = 30\n",
      "10 x 4 = 40\n",
      "10 x 5 = 50\n",
      "10 x 6 = 60\n",
      "10 x 7 = 70\n",
      "10 x 8 = 80\n",
      "10 x 9 = 90\n",
      "10 x 10 = 100\n",
      "\n"
     ]
    }
   ],
   "source": [
    "#Generate a multiplication table using nested loop.\n",
    "\n",
    "num_range = 10\n",
    "\n",
    "for i in range(1, num_range + 1):\n",
    "\n",
    "    for j in range(1, num_range + 1):\n",
    "        \n",
    "        product = i * j\n",
    "        \n",
    "        print(f\"{i} x {j} = {product}\")\n",
    "\n",
    "    print()\n"
   ]
  },
  {
   "cell_type": "code",
   "execution_count": null,
   "id": "fd2b2b7e",
   "metadata": {},
   "outputs": [],
   "source": []
  }
 ],
 "metadata": {
  "kernelspec": {
   "display_name": "Python 3 (ipykernel)",
   "language": "python",
   "name": "python3"
  },
  "language_info": {
   "codemirror_mode": {
    "name": "ipython",
    "version": 3
   },
   "file_extension": ".py",
   "mimetype": "text/x-python",
   "name": "python",
   "nbconvert_exporter": "python",
   "pygments_lexer": "ipython3",
   "version": "3.10.9"
  }
 },
 "nbformat": 4,
 "nbformat_minor": 5
}
