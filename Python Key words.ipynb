{
 "cells": [
  {
   "cell_type": "code",
   "execution_count": 27,
   "id": "dd8fdaa6",
   "metadata": {},
   "outputs": [
    {
     "name": "stdout",
     "output_type": "stream",
     "text": [
      "0\n",
      "1\n",
      "2\n",
      "3\n",
      "4\n",
      "Hello World\n"
     ]
    }
   ],
   "source": [
    "#Explain the significance of Python keywords and provide examples of five keywords\n",
    "\n",
    "\"\"\"\n",
    "Python keywords are reserved words that have special meaning and purpose in the Python language. \n",
    "These keywords cannot be used as identifiers (variable names, function names, etc.) because they are used by Python \n",
    "for specific tasks. Here are five examples of Python keywords - if, for , while , def, print:\n",
    "\n",
    "\"\"\"\n",
    "if x > 10:\n",
    "    print(\"x is greater than 10\")\n",
    "\n",
    "for i in range(5):\n",
    "    print(i)\n",
    "\n",
    "while x < 10:\n",
    "    print(x)\n",
    "    x += 1\n",
    "\n",
    "def add(a, b):\n",
    "    return a + b\n",
    "\n",
    "print(\"Hello World\")\n"
   ]
  },
  {
   "cell_type": "code",
   "execution_count": 29,
   "id": "5510cf5b",
   "metadata": {},
   "outputs": [
    {
     "ename": "SyntaxError",
     "evalue": "invalid decimal literal (2198120570.py, line 46)",
     "output_type": "error",
     "traceback": [
      "\u001b[1;36m  Cell \u001b[1;32mIn[29], line 46\u001b[1;36m\u001b[0m\n\u001b[1;33m    2nd_variable = 40  # Cannot start with a digit\u001b[0m\n\u001b[1;37m    ^\u001b[0m\n\u001b[1;31mSyntaxError\u001b[0m\u001b[1;31m:\u001b[0m invalid decimal literal\n"
     ]
    }
   ],
   "source": [
    "#Describe the rules for defining identifiers in Python and provide an example\n",
    "\n",
    "\"\"\"\n",
    "In Python, identifiers are names used to identify variables, functions, classes, modules, or other objects. \n",
    "\n",
    "Here are the rules for defining identifiers:\n",
    "\n",
    "Valid Characters:\n",
    "\n",
    "Can include letters (a-z, A-Z), digits (0-9), and underscores (_).\n",
    "\n",
    "Cannot start with a digit.\n",
    "\n",
    "Case Sensitivity: Python is case-sensitive, so my_variable and My_Variable are different identifiers.\n",
    "Reserved Keywords:\n",
    "\n",
    "Identifiers cannot be a reserved keyword (e.g., if, for, while, def, import, etc.).\n",
    "Special Characters:\n",
    "\n",
    "Special characters such as !, @, #, $, %, etc., cannot be used in identifiers.\n",
    "Length:\n",
    "\n",
    "There is no limit on the length of an identifier, but it's recommended to keep them concise and descriptive.\n",
    "Best Practices:\n",
    "\n",
    "Use descriptive names that convey the purpose of the identifier.\n",
    "Use lowercase letters for variable names, and uppercase letters for constants.\n",
    "\n",
    "Here's an example of defining valid and invalid identifiers:\n",
    "\n",
    "\"\"\"\n",
    "\n",
    "\n",
    "# Valid identifiers\n",
    "\n",
    "my_variable = 10\n",
    "\n",
    "myVar = 20\n",
    "\n",
    "MY_CONSTANT = 30\n",
    "\n",
    "my_function = lambda x: x * 2\n",
    "\n",
    "# Invalid identifiers\n",
    "\n",
    "2nd_variable = 40  # Cannot start with a digit\n",
    "\n",
    "my-variable = 50   # Cannot use special characters\n",
    "\n",
    "for = 60           # Cannot use reserved keyword as an identifier"
   ]
  },
  {
   "cell_type": "code",
   "execution_count": null,
   "id": "dacb36bd",
   "metadata": {},
   "outputs": [],
   "source": [
    "#What are comments in Python, and why are they useful? Provide an example\n",
    "\n",
    "\"\"\"\n",
    "Comments in Python are text that is ignored by the Python interpreter. \n",
    "They are used to add explanations or notes within the code for humans to read and understand. \n",
    "Comments are useful for documenting code, explaining the purpose of certain sections, and making the code more readable.\n",
    "\n",
    "\"\"\"\n",
    "#Example for single line comment:\n",
    "\n",
    "x = 10  # Assign 10 to the variable x\n"
   ]
  },
  {
   "cell_type": "code",
   "execution_count": null,
   "id": "407ab35c",
   "metadata": {},
   "outputs": [],
   "source": [
    "#Why is proper indentation important in Python?\n",
    "\n",
    "\"\"\"\n",
    "Proper indentation is important in Python because it is used to define the structure and nesting of code blocks. \n",
    "In Python, indentation is not just for readability.\n",
    "it is a fundamental part of the language's syntax. \n",
    "\n",
    "\"\"\""
   ]
  },
  {
   "cell_type": "code",
   "execution_count": null,
   "id": "01a4dae6",
   "metadata": {},
   "outputs": [],
   "source": [
    "#What happens if indentation is incorrect in Python?\n",
    "\n",
    "\"\"\"\n",
    "If the indentation is incorrect in Python, it can lead to syntax errors or unexpected behavior. \n",
    "Python uses indentation to define the structure of code blocks, such as loops, conditional statements, and function definitions. \n",
    "Incorrect indentation can change the meaning of the code and cause it to be interpreted differently than intended.\n",
    "\n",
    "\"\"\""
   ]
  },
  {
   "cell_type": "code",
   "execution_count": 31,
   "id": "5220a94a",
   "metadata": {},
   "outputs": [
    {
     "name": "stdout",
     "output_type": "stream",
     "text": [
      "16\n",
      "x is positive\n"
     ]
    }
   ],
   "source": [
    "#Differentiate between expression and statement in Python with examples\n",
    "\n",
    "\"\"\"\n",
    "An expression is a piece of code that produces a value.\n",
    "\n",
    "It can consist of variables, operators, function calls, and literals, combined to perform a specific computation.\n",
    "\n",
    "Expressions can be used anywhere a value is expected, such as in assignments, function arguments, or as part of other expressions.\n",
    "\n",
    "\"\"\"\n",
    "x=10\n",
    "y=6\n",
    "z = x + y   # Expression\n",
    "print(z)  \n",
    "\n",
    "\"\"\"\n",
    "A statement is a complete line of code that performs some action.\n",
    "\n",
    "It can consist of one or more expressions and may also include keywords like if, for, while, def, etc., to control the flow of the program.\n",
    "\n",
    "Statements are typically executed sequentially, one after the other.\n",
    "\n",
    "\"\"\"\n",
    "\n",
    "x = 5  # Assignment statement\n",
    "\n",
    "if x > 0:  # If statement\n",
    "    \n",
    "    print(\"x is positive\")  # Print statement\n",
    "    \n",
    "\"\"\"\n",
    "Expressions produce values and can be part of statements, while statements are complete units of code that perform actions \n",
    "and control the flow of a program.\n",
    "\n",
    "\"\"\"\n"
   ]
  },
  {
   "cell_type": "code",
   "execution_count": null,
   "id": "bd9b4acd",
   "metadata": {},
   "outputs": [],
   "source": []
  }
 ],
 "metadata": {
  "kernelspec": {
   "display_name": "Python 3 (ipykernel)",
   "language": "python",
   "name": "python3"
  },
  "language_info": {
   "codemirror_mode": {
    "name": "ipython",
    "version": 3
   },
   "file_extension": ".py",
   "mimetype": "text/x-python",
   "name": "python",
   "nbconvert_exporter": "python",
   "pygments_lexer": "ipython3",
   "version": "3.10.9"
  }
 },
 "nbformat": 4,
 "nbformat_minor": 5
}
