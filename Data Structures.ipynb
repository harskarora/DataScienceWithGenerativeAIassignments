{
 "cells": [
  {
   "cell_type": "code",
   "execution_count": 22,
   "id": "1c597b48",
   "metadata": {},
   "outputs": [
    {
     "name": "stdout",
     "output_type": "stream",
     "text": [
      "serving cus1\n",
      "serving cus2\n",
      "serving cus3\n",
      "serving cus4\n"
     ]
    }
   ],
   "source": [
    "# 1. Why might you choose a deque from the collections module to implement a queue instead of using a regular Python list?\n",
    "\n",
    "\"\"\"\n",
    "Using a deque from the collections module to implement a queue offers several advantages over using a regular Python list:\n",
    "\n",
    "1. Efficient appends and pops\n",
    "\n",
    "2. Memory efficiency\n",
    "\n",
    "Overall, using a deque from the collections module can lead to more efficient and cleaner code when implementing a queue, especially for scenarios where performance and memory usage are critical.\n",
    "\n",
    "Example of deque:\n",
    "\n",
    "\"\"\"\n",
    "\n",
    "from collections import deque\n",
    "\n",
    "\n",
    "checkout = deque()\n",
    "\n",
    "checkout.append(\"cus1\")\n",
    "checkout.append(\"cus2\")\n",
    "checkout.append(\"cus3\")\n",
    "checkout.append(\"cus4\")\n",
    "\n",
    "while checkout:\n",
    "    customer = checkout.popleft()\n",
    "    print(\"serving\", customer)"
   ]
  },
  {
   "cell_type": "code",
   "execution_count": 26,
   "id": "6296e117",
   "metadata": {},
   "outputs": [
    {
     "name": "stdout",
     "output_type": "stream",
     "text": [
      "Hello, world!\n",
      "Hello, \n",
      "Hello, world!\n",
      "Hello, \n"
     ]
    }
   ],
   "source": [
    "# 2. Can you explain a real-world scenario where using a stack would be a more practical choice than a list for data storage and retrieval?\n",
    "\n",
    "\"\"\"\n",
    "One real-world scenario where using a stack would be a more practical choice than a list for data storage and retrieval is in implementing the \"undo\" functionality in a text editor.\n",
    "\n",
    "When a user makes changes to a document in a text editor, the editor needs to keep track of these changes so that the user can undo them if needed. A stack can be used to store these changes in the order they were made.\n",
    "\n",
    "Example:\n",
    "\n",
    "\"\"\""
   ]
  },
  {
   "cell_type": "code",
   "execution_count": null,
   "id": "021afb6c",
   "metadata": {},
   "outputs": [],
   "source": [
    "# What is the primary advantage of using sets in Python, and in what type of problem-solving scenarios are they most useful?\n",
    "\n",
    "\"\"\"\n",
    "\n",
    "The primary advantage of using sets in Python is their ability to store unique elements. \n",
    "\n",
    "Sets do not allow duplicate elements, which makes them ideal for scenarios where you need to store a collection of unique items and perform operations like intersection, union, and difference efficiently.\n",
    "\n",
    "Hence, sets are most useful when you need to work with collections of unique elements and perform set operations efficiently.\n",
    "\n",
    "\"\"\""
   ]
  },
  {
   "cell_type": "code",
   "execution_count": null,
   "id": "4356d810",
   "metadata": {},
   "outputs": [],
   "source": [
    "# When might you choose to use an array instead of a list for storing numerical data in Python? What  benefits do arrays offer in this context?\n",
    "\n",
    "\"\"\"\n",
    "You might choose to use an array instead of a list for storing numerical data in Python when you need to work with a large amount of numeric data and performance is critical. \n",
    "\n",
    "Arrays offer several benefits in this context:\n",
    "\n",
    "1. Memory efficiency\n",
    "\n",
    "2. Faster access\n",
    "\n",
    "3. Faster operations\n",
    "\n",
    "4. Compatibility with libraries\n",
    "\n",
    "\"\"\""
   ]
  },
  {
   "cell_type": "code",
   "execution_count": null,
   "id": "9a8c8246",
   "metadata": {},
   "outputs": [],
   "source": [
    "# In Python, what's the primary difference between dictionaries and lists, and how does this difference impact their use cases in programming?\n",
    "\n",
    "\"\"\"\n",
    "\n",
    "Lists are used when you have an ordered collection of items and you need to access them by their index.\n",
    "\n",
    "Dictionaries are used when you need to store data as key-value pairs and need to access the data by keys rather than by index.\n",
    "\n",
    "Hence, lists are suitable for maintaining an ordered collection of items, while dictionaries are suitable for mapping keys to values and providing efficient access to the values based on keys.\n",
    "\n",
    "\"\"\""
   ]
  }
 ],
 "metadata": {
  "kernelspec": {
   "display_name": "Python 3 (ipykernel)",
   "language": "python",
   "name": "python3"
  },
  "language_info": {
   "codemirror_mode": {
    "name": "ipython",
    "version": 3
   },
   "file_extension": ".py",
   "mimetype": "text/x-python",
   "name": "python",
   "nbconvert_exporter": "python",
   "pygments_lexer": "ipython3",
   "version": "3.10.9"
  }
 },
 "nbformat": 4,
 "nbformat_minor": 5
}
