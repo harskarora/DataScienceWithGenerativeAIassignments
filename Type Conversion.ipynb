{
 "cells": [
  {
   "cell_type": "code",
   "execution_count": 13,
   "id": "6ba979cf",
   "metadata": {},
   "outputs": [
    {
     "data": {
      "text/plain": [
       "2.0"
      ]
     },
     "execution_count": 13,
     "metadata": {},
     "output_type": "execute_result"
    }
   ],
   "source": [
    "#Convert an integer to a floating-point number.\n",
    "\n",
    "my_int= 2\n",
    "\n",
    "float(my_int)"
   ]
  },
  {
   "cell_type": "code",
   "execution_count": 14,
   "id": "a02b6ce7",
   "metadata": {},
   "outputs": [
    {
     "data": {
      "text/plain": [
       "2"
      ]
     },
     "execution_count": 14,
     "metadata": {},
     "output_type": "execute_result"
    }
   ],
   "source": [
    "#Convert a float to an integer.\n",
    "\n",
    "my_float=2.5\n",
    "\n",
    "int(my_float)"
   ]
  },
  {
   "cell_type": "code",
   "execution_count": 15,
   "id": "85b10e35",
   "metadata": {},
   "outputs": [
    {
     "data": {
      "text/plain": [
       "'2'"
      ]
     },
     "execution_count": 15,
     "metadata": {},
     "output_type": "execute_result"
    }
   ],
   "source": [
    "#Convert an integer to a string.\n",
    "\n",
    "my_int=2\n",
    "\n",
    "str(my_int)"
   ]
  },
  {
   "cell_type": "code",
   "execution_count": 19,
   "id": "110f5954",
   "metadata": {},
   "outputs": [
    {
     "data": {
      "text/plain": [
       "(1, 2, 3, 4)"
      ]
     },
     "execution_count": 19,
     "metadata": {},
     "output_type": "execute_result"
    }
   ],
   "source": [
    "#Convert a list to a tuple.\n",
    "\n",
    "my_list=[1,2,3,4]\n",
    "\n",
    "tuple(my_list)"
   ]
  },
  {
   "cell_type": "code",
   "execution_count": 20,
   "id": "d6826d8c",
   "metadata": {},
   "outputs": [
    {
     "data": {
      "text/plain": [
       "[1, 2, 3, 4]"
      ]
     },
     "execution_count": 20,
     "metadata": {},
     "output_type": "execute_result"
    }
   ],
   "source": [
    "#Convert a tuple to a list.\n",
    "\n",
    "my_tuple = (1, 2, 3, 4)\n",
    "\n",
    "list(my_tuple)"
   ]
  },
  {
   "cell_type": "code",
   "execution_count": 22,
   "id": "6da27f29",
   "metadata": {},
   "outputs": [
    {
     "data": {
      "text/plain": [
       "'0b101010'"
      ]
     },
     "execution_count": 22,
     "metadata": {},
     "output_type": "execute_result"
    }
   ],
   "source": [
    "#Convert a decimal number to binary.\n",
    "\n",
    "my_decimal_number = 42\n",
    "\n",
    "bin(my_decimal_number)"
   ]
  },
  {
   "cell_type": "code",
   "execution_count": 23,
   "id": "f75d53a3",
   "metadata": {},
   "outputs": [
    {
     "data": {
      "text/plain": [
       "True"
      ]
     },
     "execution_count": 23,
     "metadata": {},
     "output_type": "execute_result"
    }
   ],
   "source": [
    "#Convert a non-zero number to boolean.\n",
    "\n",
    "my_number = 56\n",
    "\n",
    "bool(my_number)"
   ]
  }
 ],
 "metadata": {
  "kernelspec": {
   "display_name": "Python 3 (ipykernel)",
   "language": "python",
   "name": "python3"
  },
  "language_info": {
   "codemirror_mode": {
    "name": "ipython",
    "version": 3
   },
   "file_extension": ".py",
   "mimetype": "text/x-python",
   "name": "python",
   "nbconvert_exporter": "python",
   "pygments_lexer": "ipython3",
   "version": "3.10.9"
  }
 },
 "nbformat": 4,
 "nbformat_minor": 5
}
