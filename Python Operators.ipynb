{
 "cells": [
  {
   "cell_type": "code",
   "execution_count": 8,
   "id": "a34747bc",
   "metadata": {},
   "outputs": [
    {
     "name": "stdout",
     "output_type": "stream",
     "text": [
      "This is Sum:  13\n",
      "This is difference:  9\n",
      "This is product:  22\n",
      "This is quotient:  5.5\n"
     ]
    }
   ],
   "source": [
    "#Calculate the sum, difference, product, and quotient of two numbers.\n",
    "\n",
    "a = 11\n",
    "\n",
    "b = 2\n",
    "\n",
    "sum = a+b\n",
    "\n",
    "print(\"This is Sum: \",sum)\n",
    "\n",
    "difference = a-b\n",
    "\n",
    "print(\"This is difference: \",difference)\n",
    "\n",
    "product = a*b\n",
    "\n",
    "print(\"This is product: \",product)\n",
    "\n",
    "quotient = a/b\n",
    "\n",
    "print(\"This is quotient: \",quotient)\n"
   ]
  },
  {
   "cell_type": "code",
   "execution_count": 9,
   "id": "830b647c",
   "metadata": {},
   "outputs": [
    {
     "name": "stdout",
     "output_type": "stream",
     "text": [
      "Addition assignment: 15\n",
      "Subtraction assignment: 12\n",
      "Multiplication assignment: 24\n",
      "Division assignment: 6.0\n",
      "Modulus assignment: 0.0\n",
      "Floor division assignment: 0.0\n",
      "Exponentiation assignment: 0.0\n"
     ]
    }
   ],
   "source": [
    "#Perform various assignment operations on a variable.\n",
    "\n",
    "x = 10\n",
    "\n",
    "# Addition assignment\n",
    "\n",
    "x += 5 \n",
    "\n",
    "print(\"Addition assignment:\", x)\n",
    "\n",
    "# Subtraction assignment\n",
    "\n",
    "x -= 3  \n",
    "\n",
    "print(\"Subtraction assignment:\", x)\n",
    "\n",
    "# Multiplication assignment\n",
    "\n",
    "x *= 2  \n",
    "\n",
    "print(\"Multiplication assignment:\", x)\n",
    "\n",
    "# Division assignment\n",
    "\n",
    "x /= 4  \n",
    "\n",
    "print(\"Division assignment:\", x)\n",
    "\n",
    "# Modulus assignment\n",
    "\n",
    "x %= 3  \n",
    "\n",
    "print(\"Modulus assignment:\", x)\n",
    "\n",
    "# Floor division assignment\n",
    "\n",
    "x //= 2 \n",
    "\n",
    "print(\"Floor division assignment:\", x)\n",
    "\n",
    "# Exponentiation assignment\n",
    "\n",
    "x **= 3 \n",
    "\n",
    "print(\"Exponentiation assignment:\", x)\n"
   ]
  },
  {
   "cell_type": "code",
   "execution_count": 10,
   "id": "8472ad0f",
   "metadata": {},
   "outputs": [
    {
     "name": "stdout",
     "output_type": "stream",
     "text": [
      "y is greater than x\n"
     ]
    }
   ],
   "source": [
    "#Compare two numbers and print the results.\n",
    "\n",
    "x = 5\n",
    "\n",
    "y =6\n",
    "\n",
    "if x>y:\n",
    "    \n",
    "    print(\"x is greater than y\")\n",
    "\n",
    "else:\n",
    "    \n",
    "        print(\"y is greater than x\")"
   ]
  },
  {
   "cell_type": "code",
   "execution_count": 20,
   "id": "a6f6e53a",
   "metadata": {},
   "outputs": [
    {
     "name": "stdout",
     "output_type": "stream",
     "text": [
      "a is between 0 and 10\n",
      "Either a is greater than 0 or b is less than 5\n",
      "a is not equal to 0\n"
     ]
    }
   ],
   "source": [
    "#Check conditions using logical operators.\n",
    "\n",
    "a = 5\n",
    "\n",
    "b = 10\n",
    "\n",
    "if a > 0 and a < 10:\n",
    "    \n",
    "    print(\"a is between 0 and 10\")\n",
    "\n",
    "if a > 0 or b < 5:\n",
    "    \n",
    "    print(\"Either a is greater than 0 or b is less than 5\")\n",
    "\n",
    "if not a == 0:\n",
    "    \n",
    "    print(\"a is not equal to 0\")\n"
   ]
  },
  {
   "cell_type": "code",
   "execution_count": 21,
   "id": "52990a0f",
   "metadata": {},
   "outputs": [
    {
     "name": "stdout",
     "output_type": "stream",
     "text": [
      "x and y are the same object\n"
     ]
    }
   ],
   "source": [
    "#Check the identity of variables.\n",
    "\n",
    "x = [1, 2, 3]\n",
    "\n",
    "y = x\n",
    "\n",
    "if x is y:\n",
    "    \n",
    "    print(\"x and y are the same object\")"
   ]
  },
  {
   "cell_type": "code",
   "execution_count": 22,
   "id": "11c13e46",
   "metadata": {},
   "outputs": [
    {
     "name": "stdout",
     "output_type": "stream",
     "text": [
      "Bitwise AND: 2\n",
      "Bitwise OR: 14\n",
      "Bitwise XOR: 12\n",
      "Bitwise NOT x: -11\n",
      "Bitwise NOT y: -7\n",
      "Left shift: 20\n",
      "Right shift: 3\n"
     ]
    }
   ],
   "source": [
    "#Perform bitwise operations on any two integers.\n",
    "\n",
    "x = 10 \n",
    "y = 6   \n",
    "\n",
    "result_and = x & y\n",
    "\n",
    "print(\"Bitwise AND:\", result_and)  \n",
    "\n",
    "result_or = x | y\n",
    "\n",
    "print(\"Bitwise OR:\", result_or)    \n",
    "\n",
    "result_xor = x ^ y\n",
    "\n",
    "print(\"Bitwise XOR:\", result_xor)  \n",
    "\n",
    "result_not_x = ~x\n",
    "\n",
    "result_not_y = ~y\n",
    "\n",
    "print(\"Bitwise NOT x:\", result_not_x) \n",
    "\n",
    "print(\"Bitwise NOT y:\", result_not_y) \n",
    "\n",
    "result_left_shift = x << 1\n",
    "\n",
    "print(\"Left shift:\", result_left_shift)  \n",
    "\n",
    "result_right_shift = y >> 1\n",
    "\n",
    "print(\"Right shift:\", result_right_shift)\n"
   ]
  },
  {
   "cell_type": "code",
   "execution_count": 23,
   "id": "b0061cf9",
   "metadata": {},
   "outputs": [
    {
     "name": "stdout",
     "output_type": "stream",
     "text": [
      "Number with changed sign: -42\n"
     ]
    }
   ],
   "source": [
    "#Use unary operators to change the sign of a number.\n",
    "\n",
    "my_num = 42\n",
    "\n",
    "negative_num = -my_num\n",
    "\n",
    "print(\"Number with changed sign:\", negative_num)\n"
   ]
  },
  {
   "cell_type": "code",
   "execution_count": 25,
   "id": "02f7a34e",
   "metadata": {},
   "outputs": [
    {
     "name": "stdout",
     "output_type": "stream",
     "text": [
      "20 is greater than or equal to 10\n"
     ]
    }
   ],
   "source": [
    "#Use the ternary operator to assign values based on conditions.\n",
    "\n",
    "x = 10\n",
    "\n",
    "y = 20\n",
    "\n",
    "result = f\"{x} is greater than {y}\" if x > y else f\"{y} is greater than or equal to {x}\"\n",
    "\n",
    "print(result)\n"
   ]
  },
  {
   "cell_type": "code",
   "execution_count": null,
   "id": "2c39cb99",
   "metadata": {},
   "outputs": [],
   "source": []
  }
 ],
 "metadata": {
  "kernelspec": {
   "display_name": "Python 3 (ipykernel)",
   "language": "python",
   "name": "python3"
  },
  "language_info": {
   "codemirror_mode": {
    "name": "ipython",
    "version": 3
   },
   "file_extension": ".py",
   "mimetype": "text/x-python",
   "name": "python",
   "nbconvert_exporter": "python",
   "pygments_lexer": "ipython3",
   "version": "3.10.9"
  }
 },
 "nbformat": 4,
 "nbformat_minor": 5
}
